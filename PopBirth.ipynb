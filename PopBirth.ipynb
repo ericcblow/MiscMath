{
 "cells": [
  {
   "cell_type": "code",
   "execution_count": null,
   "id": "e1187cb7-2a9f-4b8f-95e0-c274859b3c0c",
   "metadata": {},
   "outputs": [],
   "source": [
    "# Plot population as a function of birthrate or vice versa\n",
    "# Calc aging population as an envitability of birth rate stagnation \n",
    "# how bad is the problem and how long does it last as a function of our current population trends\n",
    "# if it continues to stagnate, if it decreases\n",
    "# Large reduction of pop? Events: infectious disease (old people too), pompeii (regardless of age) "
   ]
  }
 ],
 "metadata": {
  "kernelspec": {
   "display_name": "Python 3 (ipykernel)",
   "language": "python",
   "name": "python3"
  },
  "language_info": {
   "codemirror_mode": {
    "name": "ipython",
    "version": 3
   },
   "file_extension": ".py",
   "mimetype": "text/x-python",
   "name": "python",
   "nbconvert_exporter": "python",
   "pygments_lexer": "ipython3",
   "version": "3.11.4"
  }
 },
 "nbformat": 4,
 "nbformat_minor": 5
}
