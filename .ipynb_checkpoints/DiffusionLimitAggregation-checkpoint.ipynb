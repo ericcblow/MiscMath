{
 "cells": [
  {
   "cell_type": "code",
   "execution_count": 1,
   "id": "14e48156-ed41-481e-b918-c8d47bfbbcd9",
   "metadata": {
    "tags": []
   },
   "outputs": [],
   "source": [
    "# Playing Around with Diffusion Limited Aggregation\n",
    "# References:\n",
    "# [1] https://youtu.be/gsJHzBTPG0Y?si=0maOxOH9jy3uw_pa&t=588\n",
    "# [2] https://en.wikipedia.org/wiki/Diffusion-limited_aggregation"
   ]
  },
  {
   "cell_type": "markdown",
   "id": "b1d8ac28-5ae1-4068-a775-5b51febd7e36",
   "metadata": {},
   "source": [
    "![DLA Example](./DLA/DLA_Example.jpg)"
   ]
  },
  {
   "cell_type": "code",
   "execution_count": 2,
   "id": "bea9b8ce-a205-49b6-afc2-db715a2b81e8",
   "metadata": {
    "tags": []
   },
   "outputs": [],
   "source": [
    "#Imports and Installs\n",
    "import numpy as np\n",
    "import csv\n",
    "import random\n",
    "import time\n",
    "import matplotlib.pyplot as plt\n",
    "from IPython import display"
   ]
  },
  {
   "cell_type": "code",
   "execution_count": 3,
   "id": "3636b4ed-1b01-4dae-8d1f-4b04cc23c4b0",
   "metadata": {
    "tags": []
   },
   "outputs": [],
   "source": [
    "# Coordinates of Grid\n",
    "grid_size = 200\n",
    "x_cords = range(0,grid_size)\n",
    "y_cords = range(0,grid_size)\n",
    "isBlock = np.zeros((len(x_cords),len(x_cords)))"
   ]
  },
  {
   "cell_type": "code",
   "execution_count": 4,
   "id": "98a40503-7e83-4983-8da5-7d738effdcad",
   "metadata": {
    "tags": []
   },
   "outputs": [],
   "source": [
    "#Starting Block // Seed\n",
    "firstBlock_x, firstBlock_y = int(grid_size/2), int(grid_size/2)\n",
    "isBlock[firstBlock_x, firstBlock_y] = True"
   ]
  },
  {
   "cell_type": "code",
   "execution_count": 5,
   "id": "a5ff1e94-2c28-4d9c-89a0-750b5cb61a75",
   "metadata": {
    "tags": []
   },
   "outputs": [],
   "source": [
    "# Function to call to update availableMatrix from isBlock\n",
    "def get_used_indicies(matrix):\n",
    "    return [(i, j) for i in range(len(matrix)) for j in range(len(matrix[0])) if matrix[i][j] == 1]\n"
   ]
  },
  {
   "cell_type": "code",
   "execution_count": 6,
   "id": "ee4a55a5-a3c3-44ee-b606-42eec200fd77",
   "metadata": {
    "tags": []
   },
   "outputs": [],
   "source": [
    "# Get next random next index to place block and check against\n",
    "# array of available indices\n",
    "\n",
    "def get_unique_random_index(rows, cols, used_indices):\n",
    "    # Create list of all available indicies\n",
    "    all_indices = [(i, j) for i in range(rows) for j in range(cols)]\n",
    "    available_indices = list(set(all_indices) - set(used_indices))\n",
    "\n",
    "    # Raise error if no index is available\n",
    "    if not available_indices:\n",
    "        raise ValueError(\"No available indices left to pick from.\")\n",
    "    \n",
    "    #use random choice to pick a new random index\n",
    "    chosen_index = random.choice(available_indices)    \n",
    "    return chosen_index\n"
   ]
  },
  {
   "cell_type": "code",
   "execution_count": 7,
   "id": "718ff4f2-7681-4176-8e51-021161ca689e",
   "metadata": {
    "tags": []
   },
   "outputs": [],
   "source": [
    "# Random Walking Direction until Hit\n",
    "def move_random_adjacent(index, rows, cols, known_indices):\n",
    "    i, j = index\n",
    "    directions = [(-1, -1), (-1, 0), (-1, 1), (0, -1), (0, 1), (1, -1), (1, 0), (1, 1)]\n",
    "    attempt = 0\n",
    "    walk_starts = time.time()\n",
    "    new_i, new_j = i, j\n",
    "    while True:\n",
    "        attempt+=1\n",
    "        di, dj = random.choice(directions)\n",
    "        last_i, last_j = new_i, new_j\n",
    "        new_i, new_j = (new_i + di) % rows, (new_j + dj) % cols\n",
    "        # print('New Step:',new_i, new_j)\n",
    "        if (new_i, new_j) in known_indices:\n",
    "            # print('Block Found')\n",
    "            walk_ends = time.time()\n",
    "            time_walking = walk_ends-walk_starts\n",
    "            return last_i, last_j, attempt, time_walking"
   ]
  },
  {
   "cell_type": "code",
   "execution_count": 8,
   "id": "2bdbcc9c-8731-4fe6-a9fd-3029f9fa841a",
   "metadata": {
    "tags": []
   },
   "outputs": [],
   "source": [
    "# Starting Available Matrix\n",
    "usedIndices = get_used_indicies(isBlock)"
   ]
  },
  {
   "cell_type": "code",
   "execution_count": 9,
   "id": "d458c679-52e0-4ce7-b221-ad2708fdbed4",
   "metadata": {
    "tags": []
   },
   "outputs": [
    {
     "name": "stdout",
     "output_type": "stream",
     "text": [
      "Placing Block # 5991 out of 6000\n",
      "Required Steps: 1176\n",
      "Time Walked: 0.18204069137573242 \n",
      "\n",
      "Placing Block # 5992 out of 6000\n",
      "Required Steps: 3163\n",
      "Time Walked: 0.48210978507995605 \n",
      "\n",
      "Placing Block # 5993 out of 6000\n",
      "Required Steps: 135\n",
      "Time Walked: 0.019005298614501953 \n",
      "\n",
      "Placing Block # 5994 out of 6000\n",
      "Required Steps: 89\n",
      "Time Walked: 0.013004064559936523 \n",
      "\n",
      "Placing Block # 5995 out of 6000\n",
      "Required Steps: 1293\n",
      "Time Walked: 0.21104741096496582 \n",
      "\n",
      "Placing Block # 5996 out of 6000\n",
      "Required Steps: 1468\n",
      "Time Walked: 0.20804762840270996 \n",
      "\n",
      "Placing Block # 5997 out of 6000\n",
      "Required Steps: 3\n",
      "Time Walked: 0.0010004043579101562 \n",
      "\n",
      "Placing Block # 5998 out of 6000\n",
      "Required Steps: 410\n",
      "Time Walked: 0.05501294136047363 \n",
      "\n",
      "Placing Block # 5999 out of 6000\n",
      "Required Steps: 2123\n",
      "Time Walked: 0.3070683479309082 \n",
      "\n"
     ]
    }
   ],
   "source": [
    "# Time for that block to walk until it hits an existing block\n",
    "\n",
    "# How many blocks to play\n",
    "totalBlock = 6000\n",
    "\n",
    "#init\n",
    "attempt_arr = []\n",
    "timeWalked_arr = []\n",
    "\n",
    "for n in range(totalBlock):\n",
    "    print('Placing Block #',n,'out of',totalBlock)\n",
    "    # Get Next Random Index to Place Block\n",
    "    NextBlockInd = get_unique_random_index(len(x_cords),len(y_cords), usedIndices)\n",
    "\n",
    "    # Move from next block start until you hit a existing block\n",
    "    last_x, last_y, attempt,timeWalked = move_random_adjacent(NextBlockInd, len(x_cords),len(y_cords), usedIndices)\n",
    "    attempt_arr = np.append(attempt_arr, attempt)\n",
    "    timeWalked_arr = np.append(timeWalked_arr, timeWalked)\n",
    "    print('Required Steps:', attempt)\n",
    "    print('Time Walked:', timeWalked, '\\n')\n",
    "    \n",
    "    # Given last index when last block hit update isBlock\n",
    "    isBlock[last_x, last_y] = True\n",
    "    \n",
    "    # Update Available List\n",
    "    usedIndices = get_used_indicies(isBlock)\n",
    "\n",
    "    # Ever 10 blocks clear display and save current state of matrix\n",
    "    if n % 10 == 0:\n",
    "        display.clear_output()\n",
    "        #Save isBlock, allowing for this to be done over multiple execs\n",
    "        with open(\"./DLA/isBlock.csv\", mode=\"w\", newline=\"\") as file:\n",
    "            writer = csv.writer(file)\n",
    "            writer.writerows(isBlock)\n",
    "        with open(\"./DLA/isBlock_info.csv\", mode=\"w\", newline=\"\") as file:\n",
    "            writer = csv.writer(file)\n",
    "            writer.writerows(attempt_arr)\n",
    "            writer.writerows(timeWalked_arr)\n",
    "\n",
    "display.clear_output()\n",
    "#Save isBlock, allowing for this to be done over multiple execs\n",
    "with open(\"./DLA/isBlock.csv\", mode=\"w\", newline=\"\") as file:\n",
    "    writer = csv.writer(file)\n",
    "    writer.writerows(isBlock)\n",
    "with open(\"./DLA/isBlock_info.csv\", mode=\"w\", newline=\"\") as file:\n",
    "    writer = csv.writer(file)\n",
    "    writer.writerows(attempt_arr)\n",
    "    writer.writerows(timeWalked_arr) \n",
    "print('Program Complete')"
   ]
  },
  {
   "cell_type": "code",
   "execution_count": 11,
   "id": "159cf3d0-27f8-4fe0-9c3b-e24a0f4d81ff",
   "metadata": {
    "tags": []
   },
   "outputs": [
    {
     "data": {
      "image/png": "[encoded data removed]",
      "text/plain": [
       "<Figure size 640x480 with 1 Axes>"
      ]
     },
     "metadata": {},
     "output_type": "display_data"
    }
   ],
   "source": [
    "plt.imshow(isBlock, cmap='gray', interpolation='nearest')\n",
    "plt.axis('off')\n",
    "# plt.savefig('./DLA/40kPixels6kBlocks')\n",
    "plt.show()\n"
   ]
  },
  {
   "cell_type": "markdown",
   "id": "74e78dd7-d3a4-4f78-9fbb-a480cf8e052b",
   "metadata": {},
   "source": [
    "#### Loading Specific Data"
   ]
  },
  {
   "cell_type": "code",
   "execution_count": 13,
   "id": "dba39f0f-6423-43e1-a16b-34751863d390",
   "metadata": {
    "tags": []
   },
   "outputs": [],
   "source": [
    "# Read the data\n",
    "\n",
    "with open(\"./DLA/40kPixels12kBlocks.csv\", mode=\"r\") as file:\n",
    "    reader = csv.reader(file)\n",
    "    data1 = [list(map(float, row)) for row in reader]\n",
    "\n",
    "# Split into separate matrices\n",
    "isBlock = data1[:]\n",
    "\n",
    "# Improperly saved data for first run\n",
    "# with open(\"./DLA/40kPixels12kBlocks_info.csv\", mode=\"r\") as file:\n",
    "#     reader = csv.reader(file)\n",
    "#     data2 = [list(map(float, row)) for row in reader]\n",
    "    \n",
    "# attempt_arr = data2[0]\n",
    "# timeWalked_arr = data2[1]"
   ]
  },
  {
   "cell_type": "code",
   "execution_count": 14,
   "id": "8f51a018-955a-4e8b-bcc6-4277adae7cef",
   "metadata": {
    "tags": []
   },
   "outputs": [
    {
     "data": {
      "image/png": "[encoded data removed]",
      "text/plain": [
       "<Figure size 640x480 with 1 Axes>"
      ]
     },
     "metadata": {},
     "output_type": "display_data"
    }
   ],
   "source": [
    "plt.imshow(isBlock, cmap='gray', interpolation='nearest')\n",
    "plt.axis('off')\n",
    "plt.savefig('./DLA/40kPixels12kBlocks')\n",
    "plt.show()\n"
   ]
  },
  {
   "cell_type": "markdown",
   "id": "386d18e9-0b53-492a-8375-b35749e761f8",
   "metadata": {
    "tags": []
   },
   "source": [
    "#### lets try with 6k blocks"
   ]
  },
  {
   "cell_type": "code",
   "execution_count": 17,
   "id": "9859fb55-ad7e-4a6b-a7f5-430e0abf6c97",
   "metadata": {},
   "outputs": [
    {
     "ename": "IndexError",
     "evalue": "list index out of range",
     "output_type": "error",
     "traceback": [
      "\u001b[1;31m---------------------------------------------------------------------------\u001b[0m",
      "\u001b[1;31mIndexError\u001b[0m                                Traceback (most recent call last)",
      "Cell \u001b[1;32mIn[17], line 14\u001b[0m\n\u001b[0;32m     11\u001b[0m     reader \u001b[38;5;241m=\u001b[39m csv\u001b[38;5;241m.\u001b[39mreader(file)\n\u001b[0;32m     12\u001b[0m     data2 \u001b[38;5;241m=\u001b[39m [\u001b[38;5;28mlist\u001b[39m(\u001b[38;5;28mmap\u001b[39m(\u001b[38;5;28mfloat\u001b[39m, row)) \u001b[38;5;28;01mfor\u001b[39;00m row \u001b[38;5;129;01min\u001b[39;00m reader]\n\u001b[1;32m---> 14\u001b[0m attempt_arr \u001b[38;5;241m=\u001b[39m data2[\u001b[38;5;241m0\u001b[39m]\n\u001b[0;32m     15\u001b[0m timeWalked_arr \u001b[38;5;241m=\u001b[39m data2[\u001b[38;5;241m1\u001b[39m]\n",
      "\u001b[1;31mIndexError\u001b[0m: list index out of range"
     ]
    }
   ],
   "source": [
    "# Read the data\n",
    "\n",
    "with open(\"./DLA/6kPixels12kBlocks.csv\", mode=\"r\") as file:\n",
    "    reader = csv.reader(file)\n",
    "    data1 = [list(map(float, row)) for row in reader]\n",
    "\n",
    "# Split into separate matrices\n",
    "isBlock = data1[:]\n",
    "\n",
    "# Messed up again\n",
    "# with open(\"./DLA/6kPixels12kBlocks_info.csv\", mode=\"r\") as file:\n",
    "#     reader = csv.reader(file)\n",
    "#     data2 = [list(map(float, row)) for row in reader]\n",
    "    \n",
    "# attempt_arr = data2[0]\n",
    "# timeWalked_arr = data2[1]"
   ]
  },
  {
   "cell_type": "code",
   "execution_count": null,
   "id": "01c51bb7-5824-4338-9d22-4e4b426fd296",
   "metadata": {},
   "outputs": [],
   "source": [
    "plt.imshow(isBlock, cmap='gray', interpolation='nearest')\n",
    "plt.axis('off')\n",
    "plt.savefig('./DLA/40kPixels6kBlocks')\n",
    "plt.show()\n"
   ]
  },
  {
   "cell_type": "code",
   "execution_count": null,
   "id": "82d6a1ef-4272-4e3b-b277-094b1bbeb26b",
   "metadata": {},
   "outputs": [],
   "source": [
    "# lets looks at info"
   ]
  },
  {
   "cell_type": "code",
   "execution_count": null,
   "id": "6ac9f5f4-793a-4d64-9326-4cadf1c15ba9",
   "metadata": {},
   "outputs": [],
   "source": []
  },
  {
   "cell_type": "code",
   "execution_count": 21,
   "id": "b6b2dc48-94b4-4dd8-89fb-a06d48a22b71",
   "metadata": {
    "tags": []
   },
   "outputs": [
    {
     "data": {
      "image/png": "[encoded data removed]",
      "text/plain": [
       "<Figure size 700x500 with 1 Axes>"
      ]
     },
     "metadata": {},
     "output_type": "display_data"
    }
   ],
   "source": [
    "plt.figure(figsize=(7,5))\n",
    "plt.plot(range(len(timeWalked_arr)),timeWalked_arr, color = 'k')\n",
    "plt.ylabel('Time to Place')\n",
    "plt.xlabel('Block Placed')\n",
    "plt.xlim(0,20)\n",
    "plt.show()"
   ]
  },
  {
   "cell_type": "code",
   "execution_count": 23,
   "id": "06e764a9-0dcc-4357-84ab-1225f5d381f8",
   "metadata": {
    "tags": []
   },
   "outputs": [
    {
     "data": {
      "image/png": "[encoded data removed]",
      "text/plain": [
       "<Figure size 700x500 with 1 Axes>"
      ]
     },
     "metadata": {},
     "output_type": "display_data"
    }
   ],
   "source": [
    "plt.figure(figsize=(7,5))\n",
    "plt.plot(range(len(timeWalked_arr)), np.cumsum(timeWalked_arr), color = 'k')\n",
    "plt.ylabel('Cumulative Time to Place')\n",
    "plt.xlabel('Block Placed')\n",
    "# plt.xlim(0,20)\n",
    "plt.show()"
   ]
  },
  {
   "cell_type": "code",
   "execution_count": null,
   "id": "bec5b47b-8dac-4df4-9bdb-35330f1ce86e",
   "metadata": {},
   "outputs": [],
   "source": [
    "plt.figure(figsize=(7,5))\n",
    "plt.plot(range(len(attempt_arr)),attempt_arr, color = 'k')\n",
    "plt.ylabel('Steps to Place')\n",
    "plt.xlabel('Block Placed')\n",
    "# plt.xlim(0,20)\n",
    "plt.show()"
   ]
  },
  {
   "cell_type": "code",
   "execution_count": 24,
   "id": "f6e4b593-0f73-45cd-b6eb-d7959e63685d",
   "metadata": {
    "tags": []
   },
   "outputs": [
    {
     "data": {
      "image/png": "[encoded data removed]",
      "text/plain": [
       "<Figure size 700x500 with 1 Axes>"
      ]
     },
     "metadata": {},
     "output_type": "display_data"
    }
   ],
   "source": [
    "plt.figure(figsize=(7,5))\n",
    "plt.plot(range(len(attempt_arr)),attempt_arr, color = 'k')\n",
    "plt.ylabel('Steps to Place')\n",
    "plt.xlabel('Block Placed')\n",
    "plt.xlim(0,20)\n",
    "plt.show()"
   ]
  },
  {
   "cell_type": "code",
   "execution_count": 27,
   "id": "becd5a8a-4c36-4344-844c-2f0ee2112966",
   "metadata": {
    "tags": []
   },
   "outputs": [
    {
     "name": "stdout",
     "output_type": "stream",
     "text": [
      "[]\n"
     ]
    }
   ],
   "source": []
  },
  {
   "cell_type": "code",
   "execution_count": 26,
   "id": "5faf5c05-2031-4a05-9011-79d5a4cfd412",
   "metadata": {
    "tags": []
   },
   "outputs": [
    {
     "name": "stdout",
     "output_type": "stream",
     "text": [
      "148\n"
     ]
    }
   ],
   "source": []
  },
  {
   "cell_type": "code",
   "execution_count": null,
   "id": "74f054ea-307a-4693-ad89-82c6886ad6f3",
   "metadata": {},
   "outputs": [],
   "source": []
  }
 ],
 "metadata": {
  "kernelspec": {
   "display_name": "Python 3 (ipykernel)",
   "language": "python",
   "name": "python3"
  },
  "language_info": {
   "codemirror_mode": {
    "name": "ipython",
    "version": 3
   },
   "file_extension": ".py",
   "mimetype": "text/x-python",
   "name": "python",
   "nbconvert_exporter": "python",
   "pygments_lexer": "ipython3",
   "version": "3.11.4"
  }
 },
 "nbformat": 4,
 "nbformat_minor": 5
}
