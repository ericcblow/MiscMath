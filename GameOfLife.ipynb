{
 "cells": [
  {
   "cell_type": "markdown",
   "id": "af1e011c-5cab-4053-857a-24913d799c86",
   "metadata": {},
   "source": [
    "## Conway's Game of Life "
   ]
  },
  {
   "cell_type": "markdown",
   "id": "b9d787ca-5d68-4f02-a865-be7ea326074c",
   "metadata": {},
   "source": [
    "https://en.wikipedia.org/wiki/Conway%27s_Game_of_Life"
   ]
  },
  {
   "cell_type": "markdown",
   "id": "66488623-68a8-44fb-bb1c-061700ee8903",
   "metadata": {},
   "source": [
    "The Game of Life, also known as Conway's Game of Life or simply Life, is a cellular automaton devised by the British mathematician John Horton Conway in 1970.[1] It is a zero-player game,[2][3] meaning that its evolution is determined by its initial state, requiring no further input. One interacts with the Game of Life by creating an initial configuration and observing how it evolves. It is Turing complete and can simulate a universal constructor or any other Turing machine."
   ]
  },
  {
   "cell_type": "markdown",
   "id": "dbc49da7-0486-4be8-afc0-e1d2ca31d505",
   "metadata": {},
   "source": [
    "The universe of the Game of Life is an infinite, two-dimensional orthogonal grid of square cells, each of which is in one of two possible states, live or dead (or populated and unpopulated, respectively). Every cell interacts with its eight neighbours, which are the cells that are horizontally, vertically, or diagonally adjacent. At each step in time, the following transitions occur: <br>\n",
    "\n",
    "1. Any live cell with fewer than two live neighbours dies, as if by underpopulation. <br>\n",
    "2. Any live cell with two or three live neighbours lives on to the next generation. <br>\n",
    "3. Any live cell with more than three live neighbours dies, as if by overpopulation. <br>\n",
    "4. Any dead cell with exactly three live neighbours becomes a live cell, as if by reproduction. <br>"
   ]
  },
  {
   "cell_type": "code",
   "execution_count": 129,
   "id": "325187cb-0a38-4474-b931-dee4ef7c8194",
   "metadata": {
    "tags": []
   },
   "outputs": [],
   "source": [
    "#Imports and Installs\n",
    "import numpy as np\n",
    "import csv\n",
    "import random\n",
    "import time\n",
    "import matplotlib.pyplot as plt\n",
    "from PIL import Image, ImageSequence\n",
    "from IPython.display import display, clear_output, Image as IPImage\n"
   ]
  },
  {
   "cell_type": "markdown",
   "id": "ce6ec6c1-5ab5-4b47-9b79-55f5b67eccd5",
   "metadata": {
    "tags": []
   },
   "source": [
    "#### Functions"
   ]
  },
  {
   "cell_type": "code",
   "execution_count": 130,
   "id": "91813f4b-990e-4a0c-9e70-736adc67a7c6",
   "metadata": {
    "tags": []
   },
   "outputs": [],
   "source": [
    "def check_health_alive(grid, index, frame):\n",
    "    i, j = index\n",
    "    # Count alive neighbors\n",
    "    neighbors = 0\n",
    "    directions = [(-1, -1), (-1, 0), (-1, 1), (0, -1), (0, 1), (1, -1), (1, 0), (1, 1)]\n",
    "    for dir_ind in directions:\n",
    "        di, dj = dir_ind\n",
    "        neighbors += grid[(i + di) % (np.size(grid,0)-1), (j + dj) % (np.size(grid,1)-1), frame]\n",
    "    \n",
    "    # Check against Rules 1-3\n",
    "    # Underpopulated or Overpopulated?\n",
    "    if neighbors < 2 or neighbors > 3: \n",
    "        health = False # Dead\n",
    "    else:\n",
    "        health = True # Lives on\n",
    "    return health"
   ]
  },
  {
   "cell_type": "code",
   "execution_count": 159,
   "id": "290f2d70-e812-4a68-9e57-026a6cc3a713",
   "metadata": {
    "tags": []
   },
   "outputs": [],
   "source": [
    "def check_health_dead(grid, index, frame):\n",
    "    i, j = index\n",
    "    # Count alive neighbors\n",
    "    neighbors = 0\n",
    "    directions = [(-1, -1), (-1, 0), (-1, 1), (0, -1), (0, 1), (1, -1), (1, 0), (1, 1)]\n",
    "    for dir_ind in directions:\n",
    "        di, dj = dir_ind\n",
    "        neighbors += grid[(i + di) % (np.size(grid,0)-1), (j + dj) % (np.size(grid,1)-1), frame]\n",
    "    \n",
    "    # Check against Rules 4\n",
    "    if neighbors == 3: \n",
    "        health = True # Reproduces\n",
    "    else:\n",
    "        health = False # Stays Dead\n",
    "    return health"
   ]
  },
  {
   "cell_type": "code",
   "execution_count": null,
   "id": "b5f5a223-9cb8-41c4-af58-de6327f1b3b2",
   "metadata": {},
   "outputs": [],
   "source": []
  },
  {
   "cell_type": "code",
   "execution_count": null,
   "id": "970a4150-c44d-4060-88b4-b43d00169a59",
   "metadata": {},
   "outputs": [],
   "source": []
  },
  {
   "cell_type": "code",
   "execution_count": null,
   "id": "3f11f48c-639d-4e7b-8b2a-93379f41b727",
   "metadata": {},
   "outputs": [],
   "source": []
  },
  {
   "cell_type": "code",
   "execution_count": 155,
   "id": "07dacd2d-f5a0-4019-88de-6f9961495253",
   "metadata": {
    "tags": []
   },
   "outputs": [],
   "source": [
    "# init grid\n",
    "\n",
    "# Coordinates of Grid\n",
    "grid_size = 25\n",
    "numberOfFrames = 20 \n",
    "\n",
    "x_cords = range(0,grid_size)\n",
    "y_cords = range(0,grid_size)\n",
    "Frames = range(0, numberOfFrames) \n",
    "\n",
    "# Init Grid\n",
    "Grid = np.zeros((len(x_cords),len(y_cords),len(Frames)))\n"
   ]
  },
  {
   "cell_type": "code",
   "execution_count": 156,
   "id": "66d597e9-eb3a-481c-98b9-eccb86a84dd2",
   "metadata": {
    "tags": []
   },
   "outputs": [],
   "source": [
    "#Starting Block // Seed\n",
    "firstBlock_x, firstBlock_y = int(grid_size/2), int(grid_size/2)\n",
    "Grid[firstBlock_x-2:firstBlock_x+2, firstBlock_y-2:firstBlock_y+2,0] = True\n"
   ]
  },
  {
   "cell_type": "code",
   "execution_count": 157,
   "id": "c8d3a5b6-a648-4fc0-aaa4-58579689bdd5",
   "metadata": {
    "tags": []
   },
   "outputs": [
    {
     "name": "stdout",
     "output_type": "stream",
     "text": [
      "Program Complete!\n"
     ]
    }
   ],
   "source": [
    "# Game of Life Program\n",
    "\n",
    "for f in Frames[0:-2]:\n",
    "    for i in x_cords:\n",
    "        for j in y_cords:\n",
    "            index = (i,j)\n",
    "            if Grid[i,j,f] == True: \n",
    "                Grid[i,j,f+1] == check_health_alive(Grid, index, f)\n",
    "            else: \n",
    "                Grid[i,j,f+1] == check_health_dead(Grid, index, f)\n",
    "                \n",
    "    print('Frame:', f,'Completed')\n",
    "    if f % 5 == 4:\n",
    "        clear_output()\n",
    "        np.save(\"./GoL/GoL_Grid.npy\", Grid)\n",
    "clear_output()\n",
    "print('Program Complete!')"
   ]
  },
  {
   "cell_type": "code",
   "execution_count": 158,
   "id": "92c42bf2-9370-42dc-9b18-e732c9379c8d",
   "metadata": {
    "tags": []
   },
   "outputs": [
    {
     "data": {
      "image/png": "[encoded data removed]",
      "text/plain": [
       "<Figure size 640x480 with 1 Axes>"
      ]
     },
     "metadata": {},
     "output_type": "display_data"
    }
   ],
   "source": [
    "# Check Individual Frames\n",
    "frame = 0\n",
    "plt.imshow(Grid[:,:,frame], cmap='nipy_spectral', interpolation='nearest')\n",
    "plt.axis('off')\n",
    "plt.show()\n"
   ]
  },
  {
   "cell_type": "code",
   "execution_count": null,
   "id": "f4f83667-6c5e-4bd8-9593-9639b89285ed",
   "metadata": {
    "tags": []
   },
   "outputs": [],
   "source": []
  },
  {
   "cell_type": "code",
   "execution_count": 152,
   "id": "48d76631-3b57-49ad-bdf6-81690a2d1a6a",
   "metadata": {
    "tags": []
   },
   "outputs": [],
   "source": [
    "# Define the scaling factor (e.g., 4x larger)\n",
    "scale_factor = 8\n",
    "new_size = (Grid.shape[0] * scale_factor, Grid.shape[1] * scale_factor)\n",
    "\n",
    "frames = []\n",
    "\n",
    "# Convert each 2D slice into an image\n",
    "for i in range(np.size(Grid,2)):\n",
    "    img = Image.fromarray((Grid[:,:,i] * 255).astype(np.uint8))\n",
    "     # Resize the image\n",
    "    img = img.resize(new_size, Image.NEAREST)  # Use NEAREST to keep pixelated look\n",
    "    frames.append(img)\n",
    "\n",
    "# Save as a GIF\n",
    "gif_path = \"./GoL/test.gif\"\n",
    "frames[0].save(gif_path, save_all=True, append_images=frames[1:], duration=200, loop=2)\n"
   ]
  },
  {
   "cell_type": "code",
   "execution_count": 153,
   "id": "4de706b7-4570-4961-adae-5288baa0e24c",
   "metadata": {
    "tags": []
   },
   "outputs": [
    {
     "data": {
      "image/gif": "[encoded data removed]",
      "text/plain": [
       "<IPython.core.display.Image object>"
      ]
     },
     "metadata": {},
     "output_type": "display_data"
    }
   ],
   "source": [
    "display(IPImage(gif_path))"
   ]
  },
  {
   "cell_type": "code",
   "execution_count": null,
   "id": "09026c0d-b5a5-4f17-9913-1851bccc4680",
   "metadata": {
    "tags": []
   },
   "outputs": [],
   "source": []
  },
  {
   "cell_type": "code",
   "execution_count": null,
   "id": "54081935-806b-4c6c-9612-bcf0279a55bd",
   "metadata": {},
   "outputs": [],
   "source": []
  },
  {
   "cell_type": "code",
   "execution_count": null,
   "id": "f543f385-a371-4e59-b7e0-b1e171f37a38",
   "metadata": {},
   "outputs": [],
   "source": []
  }
 ],
 "metadata": {
  "kernelspec": {
   "display_name": "Python 3 (ipykernel)",
   "language": "python",
   "name": "python3"
  },
  "language_info": {
   "codemirror_mode": {
    "name": "ipython",
    "version": 3
   },
   "file_extension": ".py",
   "mimetype": "text/x-python",
   "name": "python",
   "nbconvert_exporter": "python",
   "pygments_lexer": "ipython3",
   "version": "3.11.5"
  }
 },
 "nbformat": 4,
 "nbformat_minor": 5
}
