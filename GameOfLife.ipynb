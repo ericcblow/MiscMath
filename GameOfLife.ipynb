{
 "cells": [
  {
   "cell_type": "markdown",
   "id": "af1e011c-5cab-4053-857a-24913d799c86",
   "metadata": {},
   "source": [
    "## Conway's Game of Life "
   ]
  },
  {
   "cell_type": "markdown",
   "id": "b9d787ca-5d68-4f02-a865-be7ea326074c",
   "metadata": {},
   "source": [
    "https://en.wikipedia.org/wiki/Conway%27s_Game_of_Life"
   ]
  },
  {
   "cell_type": "markdown",
   "id": "66488623-68a8-44fb-bb1c-061700ee8903",
   "metadata": {},
   "source": [
    "The Game of Life, also known as Conway's Game of Life or simply Life, is a cellular automaton devised by the British mathematician John Horton Conway in 1970.[1] It is a zero-player game,[2][3] meaning that its evolution is determined by its initial state, requiring no further input. One interacts with the Game of Life by creating an initial configuration and observing how it evolves. It is Turing complete and can simulate a universal constructor or any other Turing machine."
   ]
  },
  {
   "cell_type": "markdown",
   "id": "dbc49da7-0486-4be8-afc0-e1d2ca31d505",
   "metadata": {},
   "source": [
    "#### The universe of the Game of Life is an infinite, two-dimensional orthogonal grid of square cells, each of which is in one of two possible states, live or dead (or populated and unpopulated, respectively). Every cell interacts with its eight neighbours, which are the cells that are horizontally, vertically, or diagonally adjacent. At each step in time, the following transitions occur:\n",
    "\n",
    "#### Any live cell with fewer than two live neighbours dies, as if by underpopulation.\n",
    "#### Any live cell with two or three live neighbours lives on to the next generation.\n",
    "#### Any live cell with more than three live neighbours dies, as if by overpopulation.\n",
    "#### Any dead cell with exactly three live neighbours becomes a live cell, as if by reproduction."
   ]
  },
  {
   "cell_type": "code",
   "execution_count": 2,
   "id": "325187cb-0a38-4474-b931-dee4ef7c8194",
   "metadata": {},
   "outputs": [],
   "source": [
    "#Imports and Installs\n",
    "import numpy as np\n",
    "import csv\n",
    "import random\n",
    "import time\n",
    "import matplotlib.pyplot as plt\n",
    "from IPython import display"
   ]
  },
  {
   "cell_type": "code",
   "execution_count": 6,
   "id": "07dacd2d-f5a0-4019-88de-6f9961495253",
   "metadata": {},
   "outputs": [],
   "source": [
    "# init grid\n",
    "\n",
    "# Coordinates of Grid\n",
    "grid_size = 40\n",
    "x_cords = range(0,grid_size)\n",
    "y_cords = range(0,grid_size)\n",
    "Grid = np.zeros((len(x_cords),len(x_cords)))"
   ]
  },
  {
   "cell_type": "code",
   "execution_count": 7,
   "id": "66d597e9-eb3a-481c-98b9-eccb86a84dd2",
   "metadata": {},
   "outputs": [],
   "source": [
    "#Starting Block // Seed\n",
    "firstBlock_x, firstBlock_y = int(grid_size/2), int(grid_size/2)\n",
    "Grid[firstBlock_x-1:firstBlock_x+1, firstBlock_y-1:firstBlock_y+1] = True\n",
    "\n"
   ]
  },
  {
   "cell_type": "code",
   "execution_count": 8,
   "id": "92c42bf2-9370-42dc-9b18-e732c9379c8d",
   "metadata": {},
   "outputs": [
    {
     "data": {
      "image/png": "[encoded data removed]",
      "text/plain": [
       "<Figure size 432x288 with 1 Axes>"
      ]
     },
     "metadata": {
      "needs_background": "light"
     },
     "output_type": "display_data"
    }
   ],
   "source": [
    "# Starting Seed\n",
    "plt.imshow(Grid, cmap='nipy_spectral', interpolation='nearest')\n",
    "plt.axis('off')\n",
    "plt.show()\n"
   ]
  },
  {
   "cell_type": "code",
   "execution_count": null,
   "id": "f4f83667-6c5e-4bd8-9593-9639b89285ed",
   "metadata": {},
   "outputs": [],
   "source": []
  }
 ],
 "metadata": {
  "kernelspec": {
   "display_name": "Python 3 (ipykernel)",
   "language": "python",
   "name": "python3"
  },
  "language_info": {
   "codemirror_mode": {
    "name": "ipython",
    "version": 3
   },
   "file_extension": ".py",
   "mimetype": "text/x-python",
   "name": "python",
   "nbconvert_exporter": "python",
   "pygments_lexer": "ipython3",
   "version": "3.9.7"
  }
 },
 "nbformat": 4,
 "nbformat_minor": 5
}
